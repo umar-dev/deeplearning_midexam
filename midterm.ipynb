{
  "nbformat": 4,
  "nbformat_minor": 0,
  "metadata": {
    "colab": {
      "name": "Untitled2.ipynb",
      "provenance": [],
      "collapsed_sections": []
    },
    "kernelspec": {
      "name": "python3",
      "display_name": "Python 3"
    },
    "language_info": {
      "name": "python"
    },
    "accelerator": "GPU"
  },
  "cells": [
    {
      "cell_type": "code",
      "source": [
        "import tensorflow.keras as K\n",
        "import tensorflow as tf"
      ],
      "metadata": {
        "id": "avbsQiksm_A0"
      },
      "execution_count": 2,
      "outputs": []
    },
    {
      "cell_type": "code",
      "source": [
        "device_name = tf.test.gpu_device_name()\n",
        "print(device_name)"
      ],
      "metadata": {
        "colab": {
          "base_uri": "https://localhost:8080/",
          "height": 0
        },
        "id": "XhmF1YUqnViQ",
        "outputId": "ea0a89f9-610c-4802-e575-6192e809a148"
      },
      "execution_count": 3,
      "outputs": [
        {
          "output_type": "stream",
          "name": "stdout",
          "text": [
            "/device:GPU:0\n"
          ]
        }
      ]
    },
    {
      "cell_type": "code",
      "source": [
        "def preprocess_data(X, Y):\n",
        "    \"\"\"\n",
        "    Pre-processes the data for the model\n",
        "\n",
        "        :param X: numpy.ndarray of shape (m, 32, 32, 3)\n",
        "            containing the CIFAR 10 data, where m is the\n",
        "            number of data points\n",
        "\n",
        "        :param Y: numpy.ndarray of shape (m,) containing\n",
        "            the CIFAR 10 labels for X\n",
        "\n",
        "        :returns: X_p, Y_p\n",
        "    \"\"\"\n",
        "    X_p = K.applications.densenet.preprocess_input(X)\n",
        "\n",
        "    # encode to one-hot\n",
        "    Y_p = K.utils.to_categorical(Y, 10)\n",
        "    return X_p, Y_p"
      ],
      "metadata": {
        "id": "YaIsNQ8vnhLm"
      },
      "execution_count": 4,
      "outputs": []
    },
    {
      "cell_type": "code",
      "source": [
        "CALLBACKS = []\n",
        "MODEL_PATH = 'cifar10.h5'\n",
        "optimizer = K.optimizers.Adam()\n",
        "\n",
        "# load cifar 10\n",
        "(x_train, y_train), (x_test, y_test) = K.datasets.cifar10.load_data()\n",
        "\n",
        "# pre-procces data\n",
        "x_train, y_train = preprocess_data(x_train, y_train)\n",
        "x_test, y_test = preprocess_data(x_test, y_test)\n",
        "\n",
        "# input tensor\n",
        "inputs = K.Input(shape=(32, 32, 3))\n",
        "\n",
        "# upscale layer\n",
        "upscale = K.layers.Lambda(lambda x: tf.image.resize(x,[160,160], method=tf.image.ResizeMethod.BILINEAR))(inputs)\n",
        "\n",
        "# load base model\n",
        "base_model = K.applications.DenseNet121(include_top=False,\n",
        "                                        weights='imagenet',\n",
        "                                        input_tensor=upscale,\n",
        "                                        input_shape=(160,160,3),\n",
        "                                        pooling='max')\n",
        "\n",
        "\n",
        "\n",
        "# add top layers\n",
        "out = base_model.output\n",
        "out = K.layers.Flatten()(out)\n",
        "out = K.layers.BatchNormalization()(out)\n",
        "out = K.layers.Dense(256, activation='relu')(out)\n",
        "out = K.layers.Dropout(0.3)(out)\n",
        "out = K.layers.BatchNormalization()(out)\n",
        "out = K.layers.Dense(128, activation='relu')(out)\n",
        "out = K.layers.Dropout(0.3)(out)\n",
        "out = K.layers.BatchNormalization()(out)\n",
        "out = K.layers.Dense(64, activation='relu')(out)\n",
        "out = K.layers.Dropout(0.3)(out)\n",
        "out = K.layers.Dense(10, activation='softmax')(out)\n",
        "\n",
        "# callbacks\n",
        "CALLBACKS.append(K.callbacks.ModelCheckpoint(filepath=MODEL_PATH,\n",
        "                                              monitor='val_acc',\n",
        "                                              save_best_only=True))\n",
        "\n",
        "CALLBACKS.append(K.callbacks.EarlyStopping(monitor='val_acc',\n",
        "                                            verbose=1,\n",
        "                                            patience=5))\n",
        "\n",
        "CALLBACKS.append(K.callbacks.TensorBoard(log_dir='logs'))\n",
        "\n",
        "# model compile\n",
        "model = K.models.Model(inputs=inputs, outputs=out)\n",
        "\n",
        "model.compile(optimizer=optimizer,\n",
        "              loss='categorical_crossentropy',\n",
        "              metrics=['accuracy'])\n",
        "\n",
        "\n",
        "# train\n",
        "model.fit(x=x_train,\n",
        "          y=y_train,\n",
        "          batch_size=128,\n",
        "          epochs=20,\n",
        "          callbacks=CALLBACKS,\n",
        "          validation_data=(x_test, y_test))"
      ],
      "metadata": {
        "colab": {
          "base_uri": "https://localhost:8080/",
          "height": 0
        },
        "id": "4bCrTrbMnnGw",
        "outputId": "b296b9e4-95bc-4d55-f398-ecd661d57004"
      },
      "execution_count": null,
      "outputs": [
        {
          "output_type": "stream",
          "name": "stdout",
          "text": [
            "Downloading data from https://www.cs.toronto.edu/~kriz/cifar-10-python.tar.gz\n",
            "170500096/170498071 [==============================] - 2s 0us/step\n",
            "170508288/170498071 [==============================] - 2s 0us/step\n",
            "Downloading data from https://storage.googleapis.com/tensorflow/keras-applications/densenet/densenet121_weights_tf_dim_ordering_tf_kernels_notop.h5\n",
            "29089792/29084464 [==============================] - 0s 0us/step\n",
            "29097984/29084464 [==============================] - 0s 0us/step\n",
            "Epoch 1/20\n",
            "391/391 [==============================] - ETA: 0s - loss: 0.7884 - accuracy: 0.7527WARNING:tensorflow:Can save best model only with val_acc available, skipping.\n",
            "WARNING:tensorflow:Early stopping conditioned on metric `val_acc` which is not available. Available metrics are: loss,accuracy,val_loss,val_accuracy\n",
            "391/391 [==============================] - 336s 785ms/step - loss: 0.7884 - accuracy: 0.7527 - val_loss: 0.9366 - val_accuracy: 0.7723\n",
            "Epoch 2/20\n",
            "259/391 [==================>...........] - ETA: 1:34 - loss: 0.3795 - accuracy: 0.8866"
          ]
        }
      ]
    },
    {
      "cell_type": "code",
      "source": [
        "model.evaluate(x_test, y_test, batch_size=128, verbose=1)"
      ],
      "metadata": {
        "id": "27HeCJrvoX4g"
      },
      "execution_count": null,
      "outputs": []
    }
  ]
}